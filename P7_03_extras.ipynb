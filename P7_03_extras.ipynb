{
 "cells": [
  {
   "cell_type": "code",
   "execution_count": 1,
   "id": "de9ce6e8",
   "metadata": {},
   "outputs": [],
   "source": [
    "import pandas as pd\n",
    "import pickle\n",
    "\n",
    "import warnings\n",
    "warnings.filterwarnings('ignore')\n",
    "\n",
    "#Visualiser le maximum possible d'information\n",
    "pd.set_option('display.max_rows', None)\n",
    "pd.set_option('display.max_columns', None)\n",
    "pd.set_option('display.max_colwidth', -1)"
   ]
  },
  {
   "cell_type": "code",
   "execution_count": 2,
   "id": "8352df6e",
   "metadata": {},
   "outputs": [],
   "source": [
    "filename = 'complete.pkl' #train+test set\n",
    "final = pickle.load(open(filename, 'rb'))\n",
    "\n",
    "app_train = pd.read_csv('files/application_train.csv')\n",
    "app_test = pd.read_csv('files/application_test.csv')\n",
    "total_applications = app_train.append(app_test).reset_index(drop=True)\n",
    "\n",
    "total_applications.sort_values('SK_ID_CURR', inplace=True)\n",
    "\n",
    "cond = total_applications['SK_ID_CURR'].isin(final.index)\n",
    "total_applications.drop(total_applications[~cond].index, inplace=True)\n",
    "\n",
    "total_applications.set_index('SK_ID_CURR', inplace=True)\n",
    "total_applications.index.name = None"
   ]
  },
  {
   "cell_type": "code",
   "execution_count": 3,
   "id": "d6cec26f",
   "metadata": {},
   "outputs": [],
   "source": [
    "cols_to_replace = final.drop(columns=['TARGET', \n",
    "                                      'CNT_CHILDREN',\n",
    "                                      'HOUR_APPR_PROCESS_START']\n",
    "                            ).select_dtypes(['int8']).columns.tolist() #inverse dummies"
   ]
  },
  {
   "cell_type": "code",
   "execution_count": 4,
   "id": "5f834817",
   "metadata": {},
   "outputs": [],
   "source": [
    "for col in cols_to_replace:\n",
    "    final[col] = total_applications[col]"
   ]
  },
  {
   "cell_type": "code",
   "execution_count": 5,
   "id": "9d595ff2",
   "metadata": {},
   "outputs": [],
   "source": [
    "pickle.dump(final[cols_to_replace], open('complete_cats.pkl', 'wb'))"
   ]
  },
  {
   "cell_type": "code",
   "execution_count": null,
   "id": "1932752d",
   "metadata": {},
   "outputs": [],
   "source": []
  }
 ],
 "metadata": {
  "kernelspec": {
   "display_name": "Python 3",
   "language": "python",
   "name": "python3"
  },
  "language_info": {
   "codemirror_mode": {
    "name": "ipython",
    "version": 3
   },
   "file_extension": ".py",
   "mimetype": "text/x-python",
   "name": "python",
   "nbconvert_exporter": "python",
   "pygments_lexer": "ipython3",
   "version": "3.8.8"
  }
 },
 "nbformat": 4,
 "nbformat_minor": 5
}
